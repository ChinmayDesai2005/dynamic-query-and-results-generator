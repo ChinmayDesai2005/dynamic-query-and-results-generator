{
 "cells": [
  {
   "cell_type": "code",
   "execution_count": 8,
   "metadata": {},
   "outputs": [
    {
     "name": "stdout",
     "output_type": "stream",
     "text": [
      "env: GOOGLE_APPLICATION_CREDENTIALS=trainingmlteam-515f2787b2d7.json\n"
     ]
    }
   ],
   "source": [
    "%env GOOGLE_APPLICATION_CREDENTIALS=path/to/credentials.json\n",
    "import base64"
   ]
  },
  {
   "cell_type": "markdown",
   "metadata": {},
   "source": [
    "**Give your prompt and file path here**"
   ]
  },
  {
   "cell_type": "code",
   "execution_count": 9,
   "metadata": {},
   "outputs": [],
   "source": [
    "'''Write a prompt and give the path to the file to be attached'''\n",
    "prompt = \"Give the names of the top 5 employees\"\n",
    "path_to_file = r'DMP EMPDATA DEC_2021.pdf'\n",
    "mime_type = \"application/pdf\""
   ]
  },
  {
   "cell_type": "code",
   "execution_count": 10,
   "metadata": {},
   "outputs": [],
   "source": [
    "with open(path_to_file, 'rb') as f:\n",
    "    encoded_file = base64.b64encode(f.read())"
   ]
  },
  {
   "cell_type": "code",
   "execution_count": 12,
   "metadata": {},
   "outputs": [
    {
     "name": "stdout",
     "output_type": "stream",
     "text": [
      "```sql\n",
      "SELECT Name_of_the_officer FROM\n",
      "    `your-project-id.your-dataset.employees_data_list`\n",
      "ORDER BY Pay DESC\n",
      "LIMIT 5\n",
      "```\n"
     ]
    }
   ],
   "source": [
    "import base64\n",
    "import vertexai\n",
    "from vertexai.generative_models import GenerativeModel, Part\n",
    "import vertexai.preview.generative_models as generative_models\n",
    "\n",
    "\n",
    "def multiturn_generate_content():\n",
    "  vertexai.init(project=\"your-project\", location=\"your-region\")\n",
    "  model = GenerativeModel(\n",
    "    \"gemini-1.5-flash-001\",\n",
    "  )\n",
    "  chat = model.start_chat()\n",
    "  print(chat.send_message(\n",
    "      [document1_1, text1_1],\n",
    "      generation_config=generation_config,\n",
    "      safety_settings=safety_settings\n",
    "  ))\n",
    "  print(chat.send_message(\n",
    "      [\"\"\"The given query results in an error, please rectify it for correct operation.\"\"\"],\n",
    "      generation_config=generation_config,\n",
    "      safety_settings=safety_settings\n",
    "  ))\n",
    "\n",
    "document1_1 = Part.from_data(\n",
    "    mime_type=mime_type,\n",
    "    data=base64.b64decode(encoded_file))\n",
    "text1_1 = f\"\"\"Understand and analyze the attached PDF file and write a BigQuery query that {prompt}.\n",
    "\n",
    "Only give the bigQuery as the output and nothing more.\n",
    "\n",
    "Think step by step.\"\"\"\n",
    "\n",
    "generation_config = {\n",
    "    \"max_output_tokens\": 8192,\n",
    "    \"temperature\": 1,\n",
    "    \"top_p\": 0.95,\n",
    "}\n",
    "\n",
    "safety_settings = {\n",
    "    generative_models.HarmCategory.HARM_CATEGORY_HATE_SPEECH: generative_models.HarmBlockThreshold.BLOCK_MEDIUM_AND_ABOVE,\n",
    "    generative_models.HarmCategory.HARM_CATEGORY_DANGEROUS_CONTENT: generative_models.HarmBlockThreshold.BLOCK_MEDIUM_AND_ABOVE,\n",
    "    generative_models.HarmCategory.HARM_CATEGORY_SEXUALLY_EXPLICIT: generative_models.HarmBlockThreshold.BLOCK_MEDIUM_AND_ABOVE,\n",
    "    generative_models.HarmCategory.HARM_CATEGORY_HARASSMENT: generative_models.HarmBlockThreshold.BLOCK_MEDIUM_AND_ABOVE,\n",
    "}\n",
    "\n",
    "# multiturn_generate_content()\n",
    "vertexai.init(project=\"your-project\", location=\"your-region\")\n",
    "model = GenerativeModel(\n",
    "\"gemini-1.5-flash-001\",\n",
    ")\n",
    "chat = model.start_chat()\n",
    "\n",
    "response = (chat.send_message(\n",
    "      [document1_1, text1_1],\n",
    "      generation_config=generation_config,\n",
    "      safety_settings=safety_settings\n",
    "  ))\n",
    "\n",
    "print(response.candidates[0].content.parts[0].text)\n"
   ]
  },
  {
   "cell_type": "code",
   "execution_count": 14,
   "metadata": {},
   "outputs": [
    {
     "name": "stdout",
     "output_type": "stream",
     "text": [
      "```\n",
      "| Name_of_the_officer |\n",
      "|----------------------|\n",
      "| ARVIND JADLI         |\n",
      "| DR. PARDEEP KUMAR     |\n",
      "| DR. CHANDRA PRAKASH  |\n",
      "| DR. B. NAMCHU        |\n",
      "| DR. MANDIRA GUNJIAL   |\n",
      "```\n"
     ]
    }
   ],
   "source": [
    "response = (chat.send_message(\n",
    "      [\"\"\"Give the output for the query you have generated if it is ran against the data in the PDF\"\"\"],\n",
    "      generation_config=generation_config,\n",
    "      safety_settings=safety_settings\n",
    "  ))\n",
    "\n",
    "print(response.candidates[0].content.parts[0].text)\n"
   ]
  }
 ],
 "metadata": {
  "kernelspec": {
   "display_name": "Python 3",
   "language": "python",
   "name": "python3"
  },
  "language_info": {
   "codemirror_mode": {
    "name": "ipython",
    "version": 3
   },
   "file_extension": ".py",
   "mimetype": "text/x-python",
   "name": "python",
   "nbconvert_exporter": "python",
   "pygments_lexer": "ipython3",
   "version": "3.12.3"
  }
 },
 "nbformat": 4,
 "nbformat_minor": 2
}
